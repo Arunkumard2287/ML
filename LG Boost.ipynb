{
 "cells": [
  {
   "cell_type": "code",
   "execution_count": 2,
   "id": "570aab91",
   "metadata": {},
   "outputs": [
    {
     "name": "stdout",
     "output_type": "stream",
     "text": [
      "Requirement already satisfied: xgboost in c:\\users\\admin\\anaconda3\\lib\\site-packages (2.0.1)\n",
      "Requirement already satisfied: numpy in c:\\users\\admin\\anaconda3\\lib\\site-packages (from xgboost) (1.24.3)\n",
      "Requirement already satisfied: scipy in c:\\users\\admin\\anaconda3\\lib\\site-packages (from xgboost) (1.11.1)\n",
      "Note: you may need to restart the kernel to use updated packages.\n"
     ]
    }
   ],
   "source": [
    "pip install xgboost"
   ]
  },
  {
   "cell_type": "code",
   "execution_count": 3,
   "id": "6ca4a226",
   "metadata": {},
   "outputs": [],
   "source": [
    "import xgboost"
   ]
  },
  {
   "cell_type": "code",
   "execution_count": 4,
   "id": "6dcc6d33",
   "metadata": {},
   "outputs": [],
   "source": [
    "import pandas as pd "
   ]
  },
  {
   "cell_type": "code",
   "execution_count": 5,
   "id": "fdad42f3",
   "metadata": {},
   "outputs": [],
   "source": [
    "dataset=pd.read_csv(\"insurance_pre.csv\")"
   ]
  },
  {
   "cell_type": "code",
   "execution_count": 6,
   "id": "bab46573",
   "metadata": {},
   "outputs": [],
   "source": [
    "dataset=pd.get_dummies(dataset,drop_first=True)"
   ]
  },
  {
   "cell_type": "code",
   "execution_count": 7,
   "id": "b4e0f963",
   "metadata": {},
   "outputs": [],
   "source": [
    "dataset = dataset.astype(int)"
   ]
  },
  {
   "cell_type": "code",
   "execution_count": 8,
   "id": "26172775",
   "metadata": {},
   "outputs": [
    {
     "data": {
      "text/plain": [
       "Index(['age', 'bmi', 'children', 'charges', 'sex_male', 'smoker_yes'], dtype='object')"
      ]
     },
     "execution_count": 8,
     "metadata": {},
     "output_type": "execute_result"
    }
   ],
   "source": [
    "dataset.columns"
   ]
  },
  {
   "cell_type": "code",
   "execution_count": 9,
   "id": "b197e1bf",
   "metadata": {},
   "outputs": [],
   "source": [
    "independent=dataset[['age', 'bmi', 'children','sex_male', 'smoker_yes']]"
   ]
  },
  {
   "cell_type": "code",
   "execution_count": 10,
   "id": "63c2b43a",
   "metadata": {},
   "outputs": [],
   "source": [
    "dependent=dataset[['charges']]"
   ]
  },
  {
   "cell_type": "code",
   "execution_count": 11,
   "id": "9c49af9c",
   "metadata": {},
   "outputs": [],
   "source": [
    "from sklearn.model_selection import train_test_split\n",
    "x_train,x_test,y_train,y_test=train_test_split(independent,dependent,test_size=0.30,random_state=0)"
   ]
  },
  {
   "cell_type": "code",
   "execution_count": 15,
   "id": "1ee2b002",
   "metadata": {},
   "outputs": [
    {
     "name": "stdout",
     "output_type": "stream",
     "text": [
      "Collecting lightgbm\n",
      "  Obtaining dependency information for lightgbm from https://files.pythonhosted.org/packages/b3/f8/ee33e36194eb03a76eccf3adac3fba51f0e56fbd20609bb531659d48d3cb/lightgbm-4.1.0-py3-none-win_amd64.whl.metadata\n",
      "  Downloading lightgbm-4.1.0-py3-none-win_amd64.whl.metadata (19 kB)\n",
      "Requirement already satisfied: numpy in c:\\users\\admin\\anaconda3\\lib\\site-packages (from lightgbm) (1.24.3)\n",
      "Requirement already satisfied: scipy in c:\\users\\admin\\anaconda3\\lib\\site-packages (from lightgbm) (1.11.1)\n",
      "Downloading lightgbm-4.1.0-py3-none-win_amd64.whl (1.3 MB)\n",
      "   ---------------------------------------- 0.0/1.3 MB ? eta -:--:--\n",
      "    --------------------------------------- 0.0/1.3 MB ? eta -:--:--\n",
      "    --------------------------------------- 0.0/1.3 MB ? eta -:--:--\n",
      "    --------------------------------------- 0.0/1.3 MB ? eta -:--:--\n",
      "    --------------------------------------- 0.0/1.3 MB ? eta -:--:--\n",
      "    --------------------------------------- 0.0/1.3 MB ? eta -:--:--\n",
      "    --------------------------------------- 0.0/1.3 MB ? eta -:--:--\n",
      "    --------------------------------------- 0.0/1.3 MB ? eta -:--:--\n",
      "   --- ------------------------------------ 0.1/1.3 MB 328.2 kB/s eta 0:00:04\n",
      "   --- ------------------------------------ 0.1/1.3 MB 328.2 kB/s eta 0:00:04\n",
      "   --- ------------------------------------ 0.1/1.3 MB 288.8 kB/s eta 0:00:05\n",
      "   --- ------------------------------------ 0.1/1.3 MB 288.8 kB/s eta 0:00:05\n",
      "   --- ------------------------------------ 0.1/1.3 MB 288.8 kB/s eta 0:00:05\n",
      "   --- ------------------------------------ 0.1/1.3 MB 288.8 kB/s eta 0:00:05\n",
      "   --- ------------------------------------ 0.1/1.3 MB 288.8 kB/s eta 0:00:05\n",
      "   --- ------------------------------------ 0.1/1.3 MB 288.8 kB/s eta 0:00:05\n",
      "   --- ------------------------------------ 0.1/1.3 MB 288.8 kB/s eta 0:00:05\n",
      "   --- ------------------------------------ 0.1/1.3 MB 288.8 kB/s eta 0:00:05\n",
      "   --- ------------------------------------ 0.1/1.3 MB 288.8 kB/s eta 0:00:05\n",
      "   --- ------------------------------------ 0.1/1.3 MB 288.8 kB/s eta 0:00:05\n",
      "   --- ------------------------------------ 0.1/1.3 MB 288.8 kB/s eta 0:00:05\n",
      "   --- ------------------------------------ 0.1/1.3 MB 288.8 kB/s eta 0:00:05\n",
      "   ----- ---------------------------------- 0.2/1.3 MB 171.9 kB/s eta 0:00:07\n",
      "   ----- ---------------------------------- 0.2/1.3 MB 171.9 kB/s eta 0:00:07\n",
      "   ----- ---------------------------------- 0.2/1.3 MB 171.9 kB/s eta 0:00:07\n",
      "   ----- ---------------------------------- 0.2/1.3 MB 171.9 kB/s eta 0:00:07\n",
      "   ----- ---------------------------------- 0.2/1.3 MB 171.9 kB/s eta 0:00:07\n",
      "   ----- ---------------------------------- 0.2/1.3 MB 171.9 kB/s eta 0:00:07\n",
      "   ----- ---------------------------------- 0.2/1.3 MB 171.9 kB/s eta 0:00:07\n",
      "   ----- ---------------------------------- 0.2/1.3 MB 171.9 kB/s eta 0:00:07\n",
      "   ------- -------------------------------- 0.2/1.3 MB 177.3 kB/s eta 0:00:07\n",
      "   ------- -------------------------------- 0.2/1.3 MB 177.3 kB/s eta 0:00:07\n",
      "   ------- -------------------------------- 0.2/1.3 MB 177.3 kB/s eta 0:00:07\n",
      "   ------- -------------------------------- 0.2/1.3 MB 177.3 kB/s eta 0:00:07\n",
      "   ------- -------------------------------- 0.2/1.3 MB 177.3 kB/s eta 0:00:07\n",
      "   ------- -------------------------------- 0.2/1.3 MB 177.3 kB/s eta 0:00:07\n",
      "   ------- -------------------------------- 0.2/1.3 MB 177.3 kB/s eta 0:00:07\n",
      "   -------- ------------------------------- 0.3/1.3 MB 168.6 kB/s eta 0:00:07\n",
      "   -------- ------------------------------- 0.3/1.3 MB 168.6 kB/s eta 0:00:07\n",
      "   -------- ------------------------------- 0.3/1.3 MB 168.6 kB/s eta 0:00:07\n",
      "   -------- ------------------------------- 0.3/1.3 MB 168.6 kB/s eta 0:00:07\n",
      "   --------- ------------------------------ 0.3/1.3 MB 156.8 kB/s eta 0:00:07\n",
      "   --------- ------------------------------ 0.3/1.3 MB 166.7 kB/s eta 0:00:06\n",
      "   --------- ------------------------------ 0.3/1.3 MB 166.7 kB/s eta 0:00:06\n",
      "   --------- ------------------------------ 0.3/1.3 MB 166.7 kB/s eta 0:00:06\n",
      "   --------- ------------------------------ 0.3/1.3 MB 166.7 kB/s eta 0:00:06\n",
      "   ---------- ----------------------------- 0.3/1.3 MB 166.4 kB/s eta 0:00:06\n",
      "   ----------- ---------------------------- 0.4/1.3 MB 176.1 kB/s eta 0:00:06\n",
      "   ------------ --------------------------- 0.4/1.3 MB 183.1 kB/s eta 0:00:05\n",
      "   ------------ --------------------------- 0.4/1.3 MB 183.1 kB/s eta 0:00:05\n",
      "   ------------ --------------------------- 0.4/1.3 MB 183.1 kB/s eta 0:00:05\n",
      "   ------------ --------------------------- 0.4/1.3 MB 183.1 kB/s eta 0:00:05\n",
      "   ------------ --------------------------- 0.4/1.3 MB 183.1 kB/s eta 0:00:05\n",
      "   ------------ --------------------------- 0.4/1.3 MB 183.1 kB/s eta 0:00:05\n",
      "   ------------ --------------------------- 0.4/1.3 MB 183.1 kB/s eta 0:00:05\n",
      "   -------------- ------------------------- 0.5/1.3 MB 186.0 kB/s eta 0:00:05\n",
      "   -------------- ------------------------- 0.5/1.3 MB 186.0 kB/s eta 0:00:05\n",
      "   -------------- ------------------------- 0.5/1.3 MB 186.0 kB/s eta 0:00:05\n",
      "   --------------- ------------------------ 0.5/1.3 MB 190.7 kB/s eta 0:00:05\n",
      "   --------------- ------------------------ 0.5/1.3 MB 190.7 kB/s eta 0:00:05\n",
      "   --------------- ------------------------ 0.5/1.3 MB 190.7 kB/s eta 0:00:05\n",
      "   --------------- ------------------------ 0.5/1.3 MB 190.7 kB/s eta 0:00:05\n",
      "   ---------------- ----------------------- 0.5/1.3 MB 193.6 kB/s eta 0:00:04\n",
      "   ---------------- ----------------------- 0.5/1.3 MB 193.6 kB/s eta 0:00:04\n",
      "   ---------------- ----------------------- 0.5/1.3 MB 193.6 kB/s eta 0:00:04\n",
      "   ----------------- ---------------------- 0.6/1.3 MB 197.0 kB/s eta 0:00:04\n",
      "   ----------------- ---------------------- 0.6/1.3 MB 198.4 kB/s eta 0:00:04\n",
      "   ----------------- ---------------------- 0.6/1.3 MB 198.4 kB/s eta 0:00:04\n",
      "   ----------------- ---------------------- 0.6/1.3 MB 198.4 kB/s eta 0:00:04\n",
      "   ----------------- ---------------------- 0.6/1.3 MB 198.4 kB/s eta 0:00:04\n",
      "   ----------------- ---------------------- 0.6/1.3 MB 198.4 kB/s eta 0:00:04\n",
      "   ----------------- ---------------------- 0.6/1.3 MB 198.4 kB/s eta 0:00:04\n",
      "   ----------------- ---------------------- 0.6/1.3 MB 198.4 kB/s eta 0:00:04\n",
      "   ----------------- ---------------------- 0.6/1.3 MB 198.4 kB/s eta 0:00:04\n",
      "   ----------------- ---------------------- 0.6/1.3 MB 198.4 kB/s eta 0:00:04\n",
      "   ----------------- ---------------------- 0.6/1.3 MB 198.4 kB/s eta 0:00:04\n",
      "   ------------------- -------------------- 0.6/1.3 MB 183.8 kB/s eta 0:00:04\n",
      "   ------------------- -------------------- 0.6/1.3 MB 183.8 kB/s eta 0:00:04\n",
      "   ------------------- -------------------- 0.6/1.3 MB 183.4 kB/s eta 0:00:04\n",
      "   ------------------- -------------------- 0.6/1.3 MB 183.4 kB/s eta 0:00:04\n",
      "   ------------------- -------------------- 0.7/1.3 MB 184.3 kB/s eta 0:00:04\n",
      "   -------------------- ------------------- 0.7/1.3 MB 184.0 kB/s eta 0:00:04\n",
      "   -------------------- ------------------- 0.7/1.3 MB 188.1 kB/s eta 0:00:04\n",
      "   --------------------- ------------------ 0.7/1.3 MB 190.5 kB/s eta 0:00:04\n",
      "   --------------------- ------------------ 0.7/1.3 MB 192.4 kB/s eta 0:00:04\n",
      "   --------------------- ------------------ 0.7/1.3 MB 192.4 kB/s eta 0:00:04\n",
      "   ---------------------- ----------------- 0.7/1.3 MB 195.8 kB/s eta 0:00:03\n",
      "   ----------------------- ---------------- 0.8/1.3 MB 198.0 kB/s eta 0:00:03\n",
      "   ----------------------- ---------------- 0.8/1.3 MB 201.7 kB/s eta 0:00:03\n",
      "   ------------------------ --------------- 0.8/1.3 MB 201.9 kB/s eta 0:00:03\n",
      "   ------------------------ --------------- 0.8/1.3 MB 204.6 kB/s eta 0:00:03\n",
      "   ------------------------ --------------- 0.8/1.3 MB 204.6 kB/s eta 0:00:03\n",
      "   ------------------------- -------------- 0.8/1.3 MB 204.0 kB/s eta 0:00:03\n",
      "   ------------------------- -------------- 0.8/1.3 MB 205.9 kB/s eta 0:00:03\n",
      "   -------------------------- ------------- 0.9/1.3 MB 208.5 kB/s eta 0:00:03\n",
      "   -------------------------- ------------- 0.9/1.3 MB 208.5 kB/s eta 0:00:03\n",
      "   -------------------------- ------------- 0.9/1.3 MB 207.9 kB/s eta 0:00:03\n",
      "   --------------------------- ------------ 0.9/1.3 MB 210.4 kB/s eta 0:00:02\n",
      "   --------------------------- ------------ 0.9/1.3 MB 209.7 kB/s eta 0:00:02\n",
      "   ---------------------------- ----------- 0.9/1.3 MB 212.9 kB/s eta 0:00:02\n",
      "   ---------------------------- ----------- 1.0/1.3 MB 214.6 kB/s eta 0:00:02\n",
      "   ----------------------------- ---------- 1.0/1.3 MB 215.4 kB/s eta 0:00:02\n",
      "   ----------------------------- ---------- 1.0/1.3 MB 217.7 kB/s eta 0:00:02\n",
      "   ----------------------------- ---------- 1.0/1.3 MB 217.7 kB/s eta 0:00:02\n",
      "   ------------------------------ --------- 1.0/1.3 MB 215.5 kB/s eta 0:00:02\n",
      "   ------------------------------ --------- 1.0/1.3 MB 217.7 kB/s eta 0:00:02\n",
      "   ------------------------------ --------- 1.0/1.3 MB 217.7 kB/s eta 0:00:02\n",
      "   ------------------------------- -------- 1.0/1.3 MB 219.2 kB/s eta 0:00:02\n",
      "   ------------------------------- -------- 1.0/1.3 MB 219.9 kB/s eta 0:00:02\n",
      "   -------------------------------- ------- 1.1/1.3 MB 222.7 kB/s eta 0:00:02\n",
      "   -------------------------------- ------- 1.1/1.3 MB 222.7 kB/s eta 0:00:02\n",
      "   --------------------------------- ------ 1.1/1.3 MB 227.6 kB/s eta 0:00:01\n",
      "   --------------------------------- ------ 1.1/1.3 MB 227.6 kB/s eta 0:00:01\n",
      "   ---------------------------------- ----- 1.1/1.3 MB 230.2 kB/s eta 0:00:01\n",
      "   ----------------------------------- ---- 1.2/1.3 MB 230.1 kB/s eta 0:00:01\n",
      "   ----------------------------------- ---- 1.2/1.3 MB 230.7 kB/s eta 0:00:01\n",
      "   ----------------------------------- ---- 1.2/1.3 MB 230.7 kB/s eta 0:00:01\n",
      "   ----------------------------------- ---- 1.2/1.3 MB 230.7 kB/s eta 0:00:01\n",
      "   ------------------------------------ --- 1.2/1.3 MB 231.6 kB/s eta 0:00:01\n",
      "   ------------------------------------- -- 1.2/1.3 MB 232.2 kB/s eta 0:00:01\n",
      "   ------------------------------------- -- 1.2/1.3 MB 233.4 kB/s eta 0:00:01\n",
      "   -------------------------------------- - 1.3/1.3 MB 236.4 kB/s eta 0:00:01\n",
      "   ---------------------------------------  1.3/1.3 MB 242.7 kB/s eta 0:00:01\n",
      "   ---------------------------------------- 1.3/1.3 MB 242.0 kB/s eta 0:00:00\n",
      "Installing collected packages: lightgbm\n",
      "Successfully installed lightgbm-4.1.0\n",
      "Note: you may need to restart the kernel to use updated packages.\n"
     ]
    }
   ],
   "source": [
    "pip install lightgbm"
   ]
  },
  {
   "cell_type": "code",
   "execution_count": 16,
   "id": "2b37667c",
   "metadata": {},
   "outputs": [],
   "source": [
    "import lightgbm"
   ]
  },
  {
   "cell_type": "code",
   "execution_count": 31,
   "id": "53b57a5f",
   "metadata": {},
   "outputs": [
    {
     "name": "stdout",
     "output_type": "stream",
     "text": [
      "[LightGBM] [Info] Auto-choosing col-wise multi-threading, the overhead of testing was 0.000280 seconds.\n",
      "You can set `force_col_wise=true` to remove the overhead.\n",
      "[LightGBM] [Info] Total Bins 92\n",
      "[LightGBM] [Info] Number of data points in the train set: 936, number of used features: 5\n",
      "[LightGBM] [Info] Start training from score 13232.425214\n"
     ]
    },
    {
     "data": {
      "text/html": [
       "<style>#sk-container-id-5 {color: black;}#sk-container-id-5 pre{padding: 0;}#sk-container-id-5 div.sk-toggleable {background-color: white;}#sk-container-id-5 label.sk-toggleable__label {cursor: pointer;display: block;width: 100%;margin-bottom: 0;padding: 0.3em;box-sizing: border-box;text-align: center;}#sk-container-id-5 label.sk-toggleable__label-arrow:before {content: \"▸\";float: left;margin-right: 0.25em;color: #696969;}#sk-container-id-5 label.sk-toggleable__label-arrow:hover:before {color: black;}#sk-container-id-5 div.sk-estimator:hover label.sk-toggleable__label-arrow:before {color: black;}#sk-container-id-5 div.sk-toggleable__content {max-height: 0;max-width: 0;overflow: hidden;text-align: left;background-color: #f0f8ff;}#sk-container-id-5 div.sk-toggleable__content pre {margin: 0.2em;color: black;border-radius: 0.25em;background-color: #f0f8ff;}#sk-container-id-5 input.sk-toggleable__control:checked~div.sk-toggleable__content {max-height: 200px;max-width: 100%;overflow: auto;}#sk-container-id-5 input.sk-toggleable__control:checked~label.sk-toggleable__label-arrow:before {content: \"▾\";}#sk-container-id-5 div.sk-estimator input.sk-toggleable__control:checked~label.sk-toggleable__label {background-color: #d4ebff;}#sk-container-id-5 div.sk-label input.sk-toggleable__control:checked~label.sk-toggleable__label {background-color: #d4ebff;}#sk-container-id-5 input.sk-hidden--visually {border: 0;clip: rect(1px 1px 1px 1px);clip: rect(1px, 1px, 1px, 1px);height: 1px;margin: -1px;overflow: hidden;padding: 0;position: absolute;width: 1px;}#sk-container-id-5 div.sk-estimator {font-family: monospace;background-color: #f0f8ff;border: 1px dotted black;border-radius: 0.25em;box-sizing: border-box;margin-bottom: 0.5em;}#sk-container-id-5 div.sk-estimator:hover {background-color: #d4ebff;}#sk-container-id-5 div.sk-parallel-item::after {content: \"\";width: 100%;border-bottom: 1px solid gray;flex-grow: 1;}#sk-container-id-5 div.sk-label:hover label.sk-toggleable__label {background-color: #d4ebff;}#sk-container-id-5 div.sk-serial::before {content: \"\";position: absolute;border-left: 1px solid gray;box-sizing: border-box;top: 0;bottom: 0;left: 50%;z-index: 0;}#sk-container-id-5 div.sk-serial {display: flex;flex-direction: column;align-items: center;background-color: white;padding-right: 0.2em;padding-left: 0.2em;position: relative;}#sk-container-id-5 div.sk-item {position: relative;z-index: 1;}#sk-container-id-5 div.sk-parallel {display: flex;align-items: stretch;justify-content: center;background-color: white;position: relative;}#sk-container-id-5 div.sk-item::before, #sk-container-id-5 div.sk-parallel-item::before {content: \"\";position: absolute;border-left: 1px solid gray;box-sizing: border-box;top: 0;bottom: 0;left: 50%;z-index: -1;}#sk-container-id-5 div.sk-parallel-item {display: flex;flex-direction: column;z-index: 1;position: relative;background-color: white;}#sk-container-id-5 div.sk-parallel-item:first-child::after {align-self: flex-end;width: 50%;}#sk-container-id-5 div.sk-parallel-item:last-child::after {align-self: flex-start;width: 50%;}#sk-container-id-5 div.sk-parallel-item:only-child::after {width: 0;}#sk-container-id-5 div.sk-dashed-wrapped {border: 1px dashed gray;margin: 0 0.4em 0.5em 0.4em;box-sizing: border-box;padding-bottom: 0.4em;background-color: white;}#sk-container-id-5 div.sk-label label {font-family: monospace;font-weight: bold;display: inline-block;line-height: 1.2em;}#sk-container-id-5 div.sk-label-container {text-align: center;}#sk-container-id-5 div.sk-container {/* jupyter's `normalize.less` sets `[hidden] { display: none; }` but bootstrap.min.css set `[hidden] { display: none !important; }` so we also need the `!important` here to be able to override the default hidden behavior on the sphinx rendered scikit-learn.org. See: https://github.com/scikit-learn/scikit-learn/issues/21755 */display: inline-block !important;position: relative;}#sk-container-id-5 div.sk-text-repr-fallback {display: none;}</style><div id=\"sk-container-id-5\" class=\"sk-top-container\"><div class=\"sk-text-repr-fallback\"><pre>LGBMRegressor(n_estimators=1000)</pre><b>In a Jupyter environment, please rerun this cell to show the HTML representation or trust the notebook. <br />On GitHub, the HTML representation is unable to render, please try loading this page with nbviewer.org.</b></div><div class=\"sk-container\" hidden><div class=\"sk-item\"><div class=\"sk-estimator sk-toggleable\"><input class=\"sk-toggleable__control sk-hidden--visually\" id=\"sk-estimator-id-5\" type=\"checkbox\" checked><label for=\"sk-estimator-id-5\" class=\"sk-toggleable__label sk-toggleable__label-arrow\">LGBMRegressor</label><div class=\"sk-toggleable__content\"><pre>LGBMRegressor(n_estimators=1000)</pre></div></div></div></div></div>"
      ],
      "text/plain": [
       "LGBMRegressor(n_estimators=1000)"
      ]
     },
     "execution_count": 31,
     "metadata": {},
     "output_type": "execute_result"
    }
   ],
   "source": [
    "from lightgbm import LGBMRegressor\n",
    "regressor = LGBMRegressor(learning_rate=0.1, n_estimators=1000)\n",
    "regressor.fit(x_train,y_train)"
   ]
  },
  {
   "cell_type": "code",
   "execution_count": 32,
   "id": "6e46ee9d",
   "metadata": {},
   "outputs": [],
   "source": [
    "y_pred=regressor.predict(x_test)"
   ]
  },
  {
   "cell_type": "code",
   "execution_count": 33,
   "id": "607adec9",
   "metadata": {},
   "outputs": [],
   "source": [
    "from sklearn.metrics import r2_score\n",
    "r_score=r2_score(y_test,y_pred)"
   ]
  },
  {
   "cell_type": "code",
   "execution_count": 34,
   "id": "2df71045",
   "metadata": {},
   "outputs": [
    {
     "data": {
      "text/plain": [
       "0.8062592011751495"
      ]
     },
     "execution_count": 34,
     "metadata": {},
     "output_type": "execute_result"
    }
   ],
   "source": [
    "r_score"
   ]
  },
  {
   "cell_type": "code",
   "execution_count": null,
   "id": "ab7a3c91",
   "metadata": {},
   "outputs": [],
   "source": []
  }
 ],
 "metadata": {
  "kernelspec": {
   "display_name": "Python 3 (ipykernel)",
   "language": "python",
   "name": "python3"
  },
  "language_info": {
   "codemirror_mode": {
    "name": "ipython",
    "version": 3
   },
   "file_extension": ".py",
   "mimetype": "text/x-python",
   "name": "python",
   "nbconvert_exporter": "python",
   "pygments_lexer": "ipython3",
   "version": "3.11.5"
  }
 },
 "nbformat": 4,
 "nbformat_minor": 5
}
